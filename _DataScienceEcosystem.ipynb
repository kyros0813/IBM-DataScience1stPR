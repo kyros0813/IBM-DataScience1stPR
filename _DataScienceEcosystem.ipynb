{
 "cells": [
  {
   "cell_type": "markdown",
   "id": "709987a3-8821-4db0-8a56-d1c1614eb01e",
   "metadata": {},
   "source": [
    "# Data Science Tools and Ecosystem"
   ]
  },
  {
   "cell_type": "markdown",
   "id": "0419f7e2-afe0-41b0-9305-8325f3fa8b58",
   "metadata": {},
   "source": [
    "In this notebook, Data Science Tools and Ecosystem are summarized. "
   ]
  },
  {
   "cell_type": "markdown",
   "id": "7d713196-21f5-4fb3-8c30-239a0b412d56",
   "metadata": {},
   "source": [
    "**Objectives:**\n",
    "- List some of the most popular programming languages in data science\n",
    "- List some of the most useful libraries in data science\n",
    "- List some of the most used data science tools\n",
    "- Showcase arithmetic operations in Python"
   ]
  },
  {
   "cell_type": "markdown",
   "id": "f4867e3f-3ae1-4a00-adee-447eed833e3a",
   "metadata": {},
   "source": [
    "Some of the popular languages that Data Scientints use are: \n",
    "\n",
    "1. Python\n",
    "2. R\n",
    "3. Java\n",
    "4. C++\n",
    "5. Scala"
   ]
  },
  {
   "cell_type": "markdown",
   "id": "1f1d25dd-4716-42ff-8387-ab39a270583f",
   "metadata": {},
   "source": [
    "Some of the commonly used libraries used by Data Scientists include:\n",
    "\n",
    "1. Pandas\n",
    "2. NumPy\n",
    "3. Matplotlib\n",
    "4. TensorFlow\n",
    "5. Scikit-Learn\n",
    "6. ggplot2"
   ]
  },
  {
   "cell_type": "markdown",
   "id": "da887853-5c06-4757-ab42-130d167e754d",
   "metadata": {},
   "source": [
    "| Data Science Tools |\r\n",
    "| -------------------|\r\n",
    "| Jupyter Lab         |\r\n",
    "| RStudio             |\r\n",
    "| Watson Studio      |ions. |"
   ]
  },
  {
   "cell_type": "markdown",
   "id": "5fab7f11-94ca-4a61-b5f7-7c89f61ec016",
   "metadata": {},
   "source": [
    "### Below are a few examples of evaluating arithmetic expressions in Python."
   ]
  },
  {
   "cell_type": "code",
   "execution_count": 31,
   "id": "556380fc-75d9-4dc8-8036-e97ec0880748",
   "metadata": {},
   "outputs": [
    {
     "data": {
      "text/plain": [
       "17"
      ]
     },
     "execution_count": 31,
     "metadata": {},
     "output_type": "execute_result"
    }
   ],
   "source": [
    "# This is a simple arithmetic expression to multiply and then add integers.\n",
    "(3*4) + 5"
   ]
  },
  {
   "cell_type": "code",
   "execution_count": 29,
   "id": "7a0c5bee-fdfb-4d40-85b3-f26ed9e942f2",
   "metadata": {},
   "outputs": [
    {
     "name": "stdout",
     "output_type": "stream",
     "text": [
      "3.3333333333333335\n"
     ]
    }
   ],
   "source": [
    "# This will convert 200 minutes to hours by dividing by 60\n",
    "mins = 200\n",
    "hours = mins/60\n",
    "print(hours)"
   ]
  },
  {
   "cell_type": "markdown",
   "id": "8601b622-c2f5-4559-888b-858241c10c2c",
   "metadata": {},
   "source": [
    "## Author \n",
    "Kyriakos Tsigalos "
   ]
  },
  {
   "cell_type": "code",
   "execution_count": null,
   "id": "5bb7e87b-5259-4c95-8f0a-d89f2247cecd",
   "metadata": {},
   "outputs": [],
   "source": []
  }
 ],
 "metadata": {
  "kernelspec": {
   "display_name": "Python [conda env:cenv]",
   "language": "python",
   "name": "conda-env-cenv-py"
  },
  "language_info": {
   "codemirror_mode": {
    "name": "ipython",
    "version": 3
   },
   "file_extension": ".py",
   "mimetype": "text/x-python",
   "name": "python",
   "nbconvert_exporter": "python",
   "pygments_lexer": "ipython3",
   "version": "3.12.4"
  }
 },
 "nbformat": 4,
 "nbformat_minor": 5
}
